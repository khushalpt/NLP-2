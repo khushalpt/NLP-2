{
  "nbformat": 4,
  "nbformat_minor": 0,
  "metadata": {
    "colab": {
      "name": "NLP_Lab_5_final.ipynb",
      "provenance": [],
      "collapsed_sections": [],
      "machine_shape": "hm"
    },
    "kernelspec": {
      "name": "python3",
      "display_name": "Python 3"
    },
    "accelerator": "GPU"
  },
  "cells": [
    {
      "cell_type": "markdown",
      "metadata": {
        "id": "ytzRVhls_1I4",
        "colab_type": "text"
      },
      "source": [
        "# **Multi-class Classification using a multilayered 1D convolution network in PyTorch**"
      ]
    },
    {
      "cell_type": "markdown",
      "metadata": {
        "id": "dRBaiiJoB0J3",
        "colab_type": "text"
      },
      "source": [
        "**Prerequisites**\n",
        "> First, connect to a GPU runtime (Runtime > Change runtime type > Hardware accelerator > GPU > Save, then connect)\n",
        "\n",
        "> Next, let's import the following libraries to work with our dataset: "
      ]
    },
    {
      "cell_type": "code",
      "metadata": {
        "id": "3ms9MOZFBNB_",
        "colab_type": "code",
        "colab": {}
      },
      "source": [
        "# Import the pandas library to read our dataset\n",
        "import pandas as pd\n",
        "\n",
        "# Get the train/test split package from sklearn for preparing our dataset to\n",
        "# train and test the model with\n",
        "from sklearn.model_selection import train_test_split\n",
        "\n",
        "# Import the numpy library to work with and manipulate the data\n",
        "import numpy as np"
      ],
      "execution_count": 0,
      "outputs": []
    },
    {
      "cell_type": "markdown",
      "metadata": {
        "id": "N6OIDfAzEClQ",
        "colab_type": "text"
      },
      "source": [
        "**Processing our dataset**\n",
        "> First, let's read and clean the dataset"
      ]
    },
    {
      "cell_type": "code",
      "metadata": {
        "id": "yQ5tZBQkzzPL",
        "colab_type": "code",
        "colab": {}
      },
      "source": [
        "# import data from google drive\n",
        "URL_Tr ='https://raw.githubusercontent.com/cacoderquan/Sentiment-Analysis-on-the-Rotten-Tomatoes-movie-review-dataset/master/train.tsv'\n",
        "data = pd.read_csv(URL_Tr,sep='\\t')\n"
      ],
      "execution_count": 0,
      "outputs": []
    },
    {
      "cell_type": "code",
      "metadata": {
        "id": "iziaKiOsMyva",
        "colab_type": "code",
        "colab": {
          "base_uri": "https://localhost:8080/",
          "height": 662
        },
        "outputId": "e00874ef-6bf8-4047-effb-e6d543e8f5fd"
      },
      "source": [
        "# Check the head of the dataframe\n",
        "data.head(20)"
      ],
      "execution_count": 7,
      "outputs": [
        {
          "output_type": "execute_result",
          "data": {
            "text/html": [
              "<div>\n",
              "<style scoped>\n",
              "    .dataframe tbody tr th:only-of-type {\n",
              "        vertical-align: middle;\n",
              "    }\n",
              "\n",
              "    .dataframe tbody tr th {\n",
              "        vertical-align: top;\n",
              "    }\n",
              "\n",
              "    .dataframe thead th {\n",
              "        text-align: right;\n",
              "    }\n",
              "</style>\n",
              "<table border=\"1\" class=\"dataframe\">\n",
              "  <thead>\n",
              "    <tr style=\"text-align: right;\">\n",
              "      <th></th>\n",
              "      <th>PhraseId</th>\n",
              "      <th>SentenceId</th>\n",
              "      <th>Phrase</th>\n",
              "      <th>Sentiment</th>\n",
              "    </tr>\n",
              "  </thead>\n",
              "  <tbody>\n",
              "    <tr>\n",
              "      <th>0</th>\n",
              "      <td>1</td>\n",
              "      <td>1</td>\n",
              "      <td>A series of escapades demonstrating the adage ...</td>\n",
              "      <td>1</td>\n",
              "    </tr>\n",
              "    <tr>\n",
              "      <th>1</th>\n",
              "      <td>2</td>\n",
              "      <td>1</td>\n",
              "      <td>A series of escapades demonstrating the adage ...</td>\n",
              "      <td>2</td>\n",
              "    </tr>\n",
              "    <tr>\n",
              "      <th>2</th>\n",
              "      <td>3</td>\n",
              "      <td>1</td>\n",
              "      <td>A series</td>\n",
              "      <td>2</td>\n",
              "    </tr>\n",
              "    <tr>\n",
              "      <th>3</th>\n",
              "      <td>4</td>\n",
              "      <td>1</td>\n",
              "      <td>A</td>\n",
              "      <td>2</td>\n",
              "    </tr>\n",
              "    <tr>\n",
              "      <th>4</th>\n",
              "      <td>5</td>\n",
              "      <td>1</td>\n",
              "      <td>series</td>\n",
              "      <td>2</td>\n",
              "    </tr>\n",
              "    <tr>\n",
              "      <th>5</th>\n",
              "      <td>6</td>\n",
              "      <td>1</td>\n",
              "      <td>of escapades demonstrating the adage that what...</td>\n",
              "      <td>2</td>\n",
              "    </tr>\n",
              "    <tr>\n",
              "      <th>6</th>\n",
              "      <td>7</td>\n",
              "      <td>1</td>\n",
              "      <td>of</td>\n",
              "      <td>2</td>\n",
              "    </tr>\n",
              "    <tr>\n",
              "      <th>7</th>\n",
              "      <td>8</td>\n",
              "      <td>1</td>\n",
              "      <td>escapades demonstrating the adage that what is...</td>\n",
              "      <td>2</td>\n",
              "    </tr>\n",
              "    <tr>\n",
              "      <th>8</th>\n",
              "      <td>9</td>\n",
              "      <td>1</td>\n",
              "      <td>escapades</td>\n",
              "      <td>2</td>\n",
              "    </tr>\n",
              "    <tr>\n",
              "      <th>9</th>\n",
              "      <td>10</td>\n",
              "      <td>1</td>\n",
              "      <td>demonstrating the adage that what is good for ...</td>\n",
              "      <td>2</td>\n",
              "    </tr>\n",
              "    <tr>\n",
              "      <th>10</th>\n",
              "      <td>11</td>\n",
              "      <td>1</td>\n",
              "      <td>demonstrating the adage</td>\n",
              "      <td>2</td>\n",
              "    </tr>\n",
              "    <tr>\n",
              "      <th>11</th>\n",
              "      <td>12</td>\n",
              "      <td>1</td>\n",
              "      <td>demonstrating</td>\n",
              "      <td>2</td>\n",
              "    </tr>\n",
              "    <tr>\n",
              "      <th>12</th>\n",
              "      <td>13</td>\n",
              "      <td>1</td>\n",
              "      <td>the adage</td>\n",
              "      <td>2</td>\n",
              "    </tr>\n",
              "    <tr>\n",
              "      <th>13</th>\n",
              "      <td>14</td>\n",
              "      <td>1</td>\n",
              "      <td>the</td>\n",
              "      <td>2</td>\n",
              "    </tr>\n",
              "    <tr>\n",
              "      <th>14</th>\n",
              "      <td>15</td>\n",
              "      <td>1</td>\n",
              "      <td>adage</td>\n",
              "      <td>2</td>\n",
              "    </tr>\n",
              "    <tr>\n",
              "      <th>15</th>\n",
              "      <td>16</td>\n",
              "      <td>1</td>\n",
              "      <td>that what is good for the goose</td>\n",
              "      <td>2</td>\n",
              "    </tr>\n",
              "    <tr>\n",
              "      <th>16</th>\n",
              "      <td>17</td>\n",
              "      <td>1</td>\n",
              "      <td>that</td>\n",
              "      <td>2</td>\n",
              "    </tr>\n",
              "    <tr>\n",
              "      <th>17</th>\n",
              "      <td>18</td>\n",
              "      <td>1</td>\n",
              "      <td>what is good for the goose</td>\n",
              "      <td>2</td>\n",
              "    </tr>\n",
              "    <tr>\n",
              "      <th>18</th>\n",
              "      <td>19</td>\n",
              "      <td>1</td>\n",
              "      <td>what</td>\n",
              "      <td>2</td>\n",
              "    </tr>\n",
              "    <tr>\n",
              "      <th>19</th>\n",
              "      <td>20</td>\n",
              "      <td>1</td>\n",
              "      <td>is good for the goose</td>\n",
              "      <td>2</td>\n",
              "    </tr>\n",
              "  </tbody>\n",
              "</table>\n",
              "</div>"
            ],
            "text/plain": [
              "    PhraseId  ...  Sentiment\n",
              "0          1  ...          1\n",
              "1          2  ...          2\n",
              "2          3  ...          2\n",
              "3          4  ...          2\n",
              "4          5  ...          2\n",
              "5          6  ...          2\n",
              "6          7  ...          2\n",
              "7          8  ...          2\n",
              "8          9  ...          2\n",
              "9         10  ...          2\n",
              "10        11  ...          2\n",
              "11        12  ...          2\n",
              "12        13  ...          2\n",
              "13        14  ...          2\n",
              "14        15  ...          2\n",
              "15        16  ...          2\n",
              "16        17  ...          2\n",
              "17        18  ...          2\n",
              "18        19  ...          2\n",
              "19        20  ...          2\n",
              "\n",
              "[20 rows x 4 columns]"
            ]
          },
          "metadata": {
            "tags": []
          },
          "execution_count": 7
        }
      ]
    },
    {
      "cell_type": "code",
      "metadata": {
        "id": "5Asm1bLvzzK0",
        "colab_type": "code",
        "colab": {
          "base_uri": "https://localhost:8080/",
          "height": 35
        },
        "outputId": "657eaf8c-0300-424a-a1eb-5a779e5939c8"
      },
      "source": [
        "# check the shape of df\n",
        "data.shape"
      ],
      "execution_count": 8,
      "outputs": [
        {
          "output_type": "execute_result",
          "data": {
            "text/plain": [
              "(156060, 4)"
            ]
          },
          "metadata": {
            "tags": []
          },
          "execution_count": 8
        }
      ]
    },
    {
      "cell_type": "code",
      "metadata": {
        "id": "SFqJlDFiNiHY",
        "colab_type": "code",
        "colab": {}
      },
      "source": [
        "# Get number of unique sentences\n",
        "numSentences = data['SentenceId'].max()"
      ],
      "execution_count": 0,
      "outputs": []
    },
    {
      "cell_type": "code",
      "metadata": {
        "id": "e9i_Fg2qzzB-",
        "colab_type": "code",
        "colab": {}
      },
      "source": [
        "# extract full sentences only from the dataset\n",
        "fullSentences = []\n",
        "curSentence = 0\n",
        "for i in range(data.shape[0]):\n",
        "  if data['SentenceId'][i]> curSentence:\n",
        "    fullSentences.append((data['Phrase'][i], data['Sentiment'][i]))\n",
        "    curSentence = curSentence +1"
      ],
      "execution_count": 0,
      "outputs": []
    },
    {
      "cell_type": "code",
      "metadata": {
        "id": "NrA-E9LH5M_f",
        "colab_type": "code",
        "colab": {
          "base_uri": "https://localhost:8080/",
          "height": 35
        },
        "outputId": "186a5c80-9924-430a-a997-6991ef99c471"
      },
      "source": [
        "len(fullSentences)"
      ],
      "execution_count": 11,
      "outputs": [
        {
          "output_type": "execute_result",
          "data": {
            "text/plain": [
              "8544"
            ]
          },
          "metadata": {
            "tags": []
          },
          "execution_count": 11
        }
      ]
    },
    {
      "cell_type": "code",
      "metadata": {
        "id": "kH7RwKy0zyx3",
        "colab_type": "code",
        "colab": {}
      },
      "source": [
        "# put data into a df\n",
        "fullSentDf = pd.DataFrame(fullSentences,\n",
        "                                columns=['Phrase', 'Sentiment'])"
      ],
      "execution_count": 0,
      "outputs": []
    },
    {
      "cell_type": "code",
      "metadata": {
        "id": "XswLOk8gO5am",
        "colab_type": "code",
        "colab": {
          "base_uri": "https://localhost:8080/",
          "height": 121
        },
        "outputId": "bb9fea7e-4159-4823-a438-5af47e93fc49"
      },
      "source": [
        "# Check class imbalance in tokenized sentences\n",
        "data['Sentiment'].value_counts()"
      ],
      "execution_count": 13,
      "outputs": [
        {
          "output_type": "execute_result",
          "data": {
            "text/plain": [
              "2    79582\n",
              "3    32927\n",
              "1    27273\n",
              "4     9206\n",
              "0     7072\n",
              "Name: Sentiment, dtype: int64"
            ]
          },
          "metadata": {
            "tags": []
          },
          "execution_count": 13
        }
      ]
    },
    {
      "cell_type": "code",
      "metadata": {
        "id": "UDhBKSBtO46D",
        "colab_type": "code",
        "colab": {
          "base_uri": "https://localhost:8080/",
          "height": 121
        },
        "outputId": "c9426551-0859-4974-98a2-8ccb01fc8078"
      },
      "source": [
        "# Check class imbalance in full sentences\n",
        "fullSentDf['Sentiment'].value_counts()"
      ],
      "execution_count": 14,
      "outputs": [
        {
          "output_type": "execute_result",
          "data": {
            "text/plain": [
              "3    2325\n",
              "1    2203\n",
              "2    1659\n",
              "4    1282\n",
              "0    1075\n",
              "Name: Sentiment, dtype: int64"
            ]
          },
          "metadata": {
            "tags": []
          },
          "execution_count": 14
        }
      ]
    },
    {
      "cell_type": "code",
      "metadata": {
        "id": "mwInoiU77Aoa",
        "colab_type": "code",
        "colab": {
          "base_uri": "https://localhost:8080/",
          "height": 121
        },
        "outputId": "3e4179ba-b94f-4e6a-a45a-add4153d66bd"
      },
      "source": [
        "import nltk\n",
        "import random\n",
        "nltk.download('punkt')\n",
        "nltk.download('stopwords')\n",
        "nltk.download('wordnet')\n",
        "from nltk.tokenize import word_tokenize"
      ],
      "execution_count": 15,
      "outputs": [
        {
          "output_type": "stream",
          "text": [
            "[nltk_data] Downloading package punkt to /root/nltk_data...\n",
            "[nltk_data]   Unzipping tokenizers/punkt.zip.\n",
            "[nltk_data] Downloading package stopwords to /root/nltk_data...\n",
            "[nltk_data]   Unzipping corpora/stopwords.zip.\n",
            "[nltk_data] Downloading package wordnet to /root/nltk_data...\n",
            "[nltk_data]   Unzipping corpora/wordnet.zip.\n"
          ],
          "name": "stdout"
        }
      ]
    },
    {
      "cell_type": "code",
      "metadata": {
        "id": "78shXqXGPwuF",
        "colab_type": "code",
        "colab": {}
      },
      "source": [
        "documents = []\n",
        "#convert data into format for the previous labs\n",
        "\n",
        "#use full dataset\n",
        "#for i in range(data.shape[0]):\n",
        "#  tmpWords = word_tokenize(data['Phrase'][i])\n",
        "#  documents.append((tmpWords, data['Sentiment'][i]))\n",
        "\n",
        "# Use only complete sentences\n",
        "for i in range(fullSentDf.shape[0]):\n",
        "  tmpWords = word_tokenize(fullSentDf['Phrase'][i])\n",
        "  documents.append((tmpWords, fullSentDf['Sentiment'][i]))"
      ],
      "execution_count": 0,
      "outputs": []
    },
    {
      "cell_type": "code",
      "metadata": {
        "id": "pfDx542WSfjJ",
        "colab_type": "code",
        "colab": {
          "base_uri": "https://localhost:8080/",
          "height": 35
        },
        "outputId": "59ba4c56-a453-43c5-85c7-c3f6625d61e5"
      },
      "source": [
        "random.seed(9001)\n",
        "random.shuffle(documents)\n",
        "print(documents[1][0])"
      ],
      "execution_count": 17,
      "outputs": [
        {
          "output_type": "stream",
          "text": [
            "['For', 'its', '100', 'minutes', 'running', 'time', ',', 'you', \"'ll\", 'wait', 'in', 'vain', 'for', 'a', 'movie', 'to', 'happen', '.']\n"
          ],
          "name": "stdout"
        }
      ]
    },
    {
      "cell_type": "code",
      "metadata": {
        "id": "3ngNm5nGS5x6",
        "colab_type": "code",
        "colab": {
          "base_uri": "https://localhost:8080/",
          "height": 35
        },
        "outputId": "09a19e66-c218-4f7a-bd79-ff8a070a7ac8"
      },
      "source": [
        "len(documents)"
      ],
      "execution_count": 18,
      "outputs": [
        {
          "output_type": "execute_result",
          "data": {
            "text/plain": [
              "8544"
            ]
          },
          "metadata": {
            "tags": []
          },
          "execution_count": 18
        }
      ]
    },
    {
      "cell_type": "code",
      "metadata": {
        "id": "uTgjvUD17Jwp",
        "colab_type": "code",
        "colab": {
          "base_uri": "https://localhost:8080/",
          "height": 35
        },
        "outputId": "d7a084ac-0d4e-4151-a298-97418356120a"
      },
      "source": [
        "from nltk.corpus import stopwords\n",
        "from nltk.stem import WordNetLemmatizer, PorterStemmer, LancasterStemmer\n",
        "porter = PorterStemmer()\n",
        "lancaster=LancasterStemmer()\n",
        "wordnet_lemmatizer = WordNetLemmatizer()\n",
        "stopwords_en = stopwords.words(\"english\")\n",
        "punctuations=\"?:!.,;'\\\"-()\"\n",
        "\n",
        "#parameters to adjust to see the impact on outcome\n",
        "remove_stopwords = True\n",
        "useStemming = True\n",
        "useLemma = False\n",
        "removePuncs = True\n",
        "\n",
        "for l in range(len(documents)):\n",
        "  label = documents[l][1]\n",
        "  tmpReview = []\n",
        "  for w in documents[l][0]:\n",
        "    newWord = w\n",
        "    if remove_stopwords and (w in stopwords_en):\n",
        "      continue\n",
        "    if removePuncs and (w in punctuations):\n",
        "      continue\n",
        "    if useStemming:\n",
        "      #newWord = porter.stem(newWord)\n",
        "      newWord = lancaster.stem(newWord)\n",
        "    if useLemma:\n",
        "      newWord = wordnet_lemmatizer.lemmatize(newWord)\n",
        "    tmpReview.append(newWord)\n",
        "  documents[l] = (' '.join(tmpReview), label)\n",
        "print(documents[2])"
      ],
      "execution_count": 19,
      "outputs": [
        {
          "output_type": "stream",
          "text": [
            "('ian holm conqu frant earthy napoleon', 3)\n"
          ],
          "name": "stdout"
        }
      ]
    },
    {
      "cell_type": "code",
      "metadata": {
        "id": "sglN1mwuULw4",
        "colab_type": "code",
        "colab": {}
      },
      "source": [
        "all_data = pd.DataFrame(documents,\n",
        "                                columns=['text', 'sentiment'])\n",
        "# Splits the dataset so 70% is used for training and 30% for testing\n",
        "x_train_raw, x_test_raw, y_train_raw, y_test_raw = train_test_split(all_data['text'], all_data['sentiment'], test_size=0.3)"
      ],
      "execution_count": 0,
      "outputs": []
    },
    {
      "cell_type": "code",
      "metadata": {
        "id": "jUe044MwUgcE",
        "colab_type": "code",
        "colab": {
          "base_uri": "https://localhost:8080/",
          "height": 35
        },
        "outputId": "ea21fa70-38fa-442e-bb32-572cb4098901"
      },
      "source": [
        "len(x_train_raw)"
      ],
      "execution_count": 21,
      "outputs": [
        {
          "output_type": "execute_result",
          "data": {
            "text/plain": [
              "5980"
            ]
          },
          "metadata": {
            "tags": []
          },
          "execution_count": 21
        }
      ]
    },
    {
      "cell_type": "code",
      "metadata": {
        "id": "dJcJhv7kU8Lp",
        "colab_type": "code",
        "colab": {}
      },
      "source": [
        "from sklearn.feature_extraction.text import TfidfVectorizer\n",
        "from sklearn.feature_extraction.text import CountVectorizer\n",
        "\n",
        "# Transform each text into a vector of word counts\n",
        "vectorizer = CountVectorizer(stop_words=\"english\",\n",
        "                             ngram_range=(1, 2))\n",
        "#vectorizer = TfidfVectorizer(stop_words=\"english\",\n",
        "#                             ngram_range=(1, 1))\n",
        "#X = vectorizer.fit_transform(all_data[\"text\"])\n",
        "#Y = all_data['sentiment']\n",
        "x_train = vectorizer.fit_transform(x_train_raw)\n",
        "y_train = y_train_raw\n",
        "x_test = vectorizer.transform(x_test_raw)\n",
        "y_test = y_test_raw"
      ],
      "execution_count": 0,
      "outputs": []
    },
    {
      "cell_type": "code",
      "metadata": {
        "id": "aqLmDkY97BDa",
        "colab_type": "code",
        "colab": {}
      },
      "source": [
        "# Converts the datasets to numpy arrays to work with our PyTorch model\n",
        "x_train_np = x_train.toarray()\n",
        "y_train_np = np.array(y_train)\n",
        "\n",
        "# Convert the testing data\n",
        "x_test_np = x_test.toarray()\n",
        "y_test_np = np.array(y_test)"
      ],
      "execution_count": 0,
      "outputs": []
    },
    {
      "cell_type": "code",
      "metadata": {
        "id": "Tk6lX0pv7BIp",
        "colab_type": "code",
        "colab": {
          "base_uri": "https://localhost:8080/",
          "height": 35
        },
        "outputId": "a684570e-3fe0-40d4-b49d-3e917d6cd015"
      },
      "source": [
        "x_train_np.shape"
      ],
      "execution_count": 24,
      "outputs": [
        {
          "output_type": "execute_result",
          "data": {
            "text/plain": [
              "(5980, 50320)"
            ]
          },
          "metadata": {
            "tags": []
          },
          "execution_count": 24
        }
      ]
    },
    {
      "cell_type": "markdown",
      "metadata": {
        "id": "Z_JhOF_6FlQA",
        "colab_type": "text"
      },
      "source": [
        "**Creating the network**\n",
        "> First, let's import the following libraries to build our network with:"
      ]
    },
    {
      "cell_type": "code",
      "metadata": {
        "id": "xfaTBPJSFsIX",
        "colab_type": "code",
        "colab": {}
      },
      "source": [
        "# Import the pytorch library\n",
        "import torch\n",
        "torch.manual_seed(2020)\n",
        "\n",
        "# Import the 1D convolution layer\n",
        "# Since we’re inputting a 1-dimensional row of data, we can’t use 2D or 3D\n",
        "from torch.nn import Conv1d\n",
        "\n",
        "# Import the max pooling layer\n",
        "from torch.nn import MaxPool1d\n",
        "\n",
        "# Import the flatten layer\n",
        "from torch.nn import Flatten\n",
        "\n",
        "# Import the linear layer\n",
        "from torch.nn import Linear\n",
        "\n",
        "# Import the ReLU & Softmax activation function\n",
        "from torch.nn.functional import relu, softmax, sigmoid\n",
        "\n",
        "# Import the DataLoader and TensorDataset libraries from PyTorch\n",
        "# to work with our datasets\n",
        "from torch.utils.data import DataLoader, TensorDataset"
      ],
      "execution_count": 0,
      "outputs": []
    },
    {
      "cell_type": "markdown",
      "metadata": {
        "id": "rokjpDxcGBtp",
        "colab_type": "text"
      },
      "source": [
        "> Next, let's define our model"
      ]
    },
    {
      "cell_type": "code",
      "metadata": {
        "id": "cJ_R-FtYGW7S",
        "colab_type": "code",
        "colab": {}
      },
      "source": [
        "# Our class MUST be a subclass of torch.nn.Module\n",
        "class CnnClassifier(torch.nn.Module):\n",
        "  # Define the initialization method\n",
        "  def __init__(self, batch_size, inputs, outputs):\n",
        "\n",
        "    # Initialize the superclass and store the parameters\n",
        "    super(CnnClassifier, self).__init__()\n",
        "    self.batch_size = batch_size\n",
        "    self.inputs = inputs\n",
        "    self.outputs = outputs\n",
        "\n",
        "    # Define the input layer\n",
        "    # (input channels, output channels, kernel size)\n",
        "    self.input_layer = Conv1d(inputs, batch_size, 1)\n",
        "\n",
        "    # Define a max pooling layer\n",
        "    # (kernel size)\n",
        "    self.max_pooling_layer = MaxPool1d(1)\n",
        "\n",
        "    # Define another convolution layer\n",
        "    self.conv_layer = Conv1d(batch_size, 128, 1)\n",
        "\n",
        "    # Define a flatten layer\n",
        "    self.flatten_layer = Flatten()\n",
        "\n",
        "    # Define a linear layer\n",
        "    # (inputs, outputs)\n",
        "    self.linear_layer = Linear(128, 64)\n",
        "\n",
        "    # Finally, define the output layer\n",
        "    self.output_layer = Linear(64, outputs)\n",
        "\n",
        "  # Define a method to feed inputs through the model\n",
        "  def feed(self, input):\n",
        "    # Reshape the entry so it can be fed to the input layer\n",
        "    # Although we’re using 1D convolution, it still expects a 3D array to \n",
        "    # process in a 1D fashion\n",
        "    input = input.reshape((self.batch_size, self.inputs, 1))\n",
        "\n",
        "    # Get the output of the first layer and run it through the\n",
        "    # the ReLU activation function\n",
        "    output = relu(self.input_layer(input))\n",
        "\n",
        "    # Get the output of the max pooling layer\n",
        "    output = self.max_pooling_layer(output)\n",
        "\n",
        "    # Get the output of the second convolution layer and run it\n",
        "    # through the ReLU activation function\n",
        "    output = relu(self.conv_layer(output))\n",
        "\n",
        "    # Get the output of the flatten layer\n",
        "    output = self.flatten_layer(output)\n",
        "\n",
        "    # Get the output of the linear layer and run it through the\n",
        "    # ReLU activation function\n",
        "    output = self.linear_layer(output)\n",
        "\n",
        "    # Finally, get the output of the output layer and return it\n",
        "    output = self.output_layer(output)\n",
        "    \n",
        "    #We use softmax for multi-class classification\n",
        "    output = softmax(output)\n",
        "   \n",
        "    return output"
      ],
      "execution_count": 0,
      "outputs": []
    },
    {
      "cell_type": "markdown",
      "metadata": {
        "id": "Wx_eOdsuPKX5",
        "colab_type": "text"
      },
      "source": [
        "**Training the model**\n",
        "> First, let's import the optimizer and performance measure we'll be using"
      ]
    },
    {
      "cell_type": "code",
      "metadata": {
        "id": "8NpIoMgVPUtQ",
        "colab_type": "code",
        "colab": {}
      },
      "source": [
        "# Import the SGD (stochastic gradient descent) package from pytorch for\n",
        "# our optimizer\n",
        "from torch.optim import SGD, Adam\n",
        "\n",
        "# Import the L1Loss (mean absolute error loss) package from pytorch for\n",
        "# our performance measure\n",
        "from torch.nn import L1Loss, CrossEntropyLoss\n"
      ],
      "execution_count": 0,
      "outputs": []
    },
    {
      "cell_type": "markdown",
      "metadata": {
        "id": "amFk7CgEPVrh",
        "colab_type": "text"
      },
      "source": [
        "> Next, let's define our model"
      ]
    },
    {
      "cell_type": "code",
      "metadata": {
        "id": "EpiTZqhWPo4Z",
        "colab_type": "code",
        "colab": {
          "base_uri": "https://localhost:8080/",
          "height": 156
        },
        "outputId": "01fcf786-1e8b-49f1-d0fa-dcb859a987bf"
      },
      "source": [
        "# Define the batch size we'd like to use\n",
        "batch_size = 128\n",
        "\n",
        "# (batch size, X columns, Y columns)\n",
        "model = CnnClassifier(batch_size, x_train.shape[1], 5)\n",
        "\n",
        "# Set the model to use the GPU for processing\n",
        "model.cuda()"
      ],
      "execution_count": 28,
      "outputs": [
        {
          "output_type": "execute_result",
          "data": {
            "text/plain": [
              "CnnClassifier(\n",
              "  (input_layer): Conv1d(50320, 128, kernel_size=(1,), stride=(1,))\n",
              "  (max_pooling_layer): MaxPool1d(kernel_size=1, stride=1, padding=0, dilation=1, ceil_mode=False)\n",
              "  (conv_layer): Conv1d(128, 128, kernel_size=(1,), stride=(1,))\n",
              "  (flatten_layer): Flatten()\n",
              "  (linear_layer): Linear(in_features=128, out_features=64, bias=True)\n",
              "  (output_layer): Linear(in_features=64, out_features=5, bias=True)\n",
              ")"
            ]
          },
          "metadata": {
            "tags": []
          },
          "execution_count": 28
        }
      ]
    },
    {
      "cell_type": "markdown",
      "metadata": {
        "id": "nkDZehDziBbj",
        "colab_type": "text"
      },
      "source": [
        "> Next, let's create a method for running the batches of data through our model (this is using code from the first lab)"
      ]
    },
    {
      "cell_type": "code",
      "metadata": {
        "id": "79XIb_jkygpm",
        "colab_type": "code",
        "colab": {}
      },
      "source": [
        "def categorical_accuracy(preds, y):\n",
        "    \"\"\"\n",
        "    Returns accuracy per batch, i.e. if you get 8/10 right, this returns 0.8, NOT 8\n",
        "    \"\"\"\n",
        "    max_preds = preds.argmax(dim = 1, keepdim = True) # get the index of the max probability\n",
        "    correct = max_preds.squeeze(1).eq(y)\n",
        "    return (correct.sum() / torch.FloatTensor([y.shape[0]])) / torch.FloatTensor([y.shape[0]])"
      ],
      "execution_count": 0,
      "outputs": []
    },
    {
      "cell_type": "code",
      "metadata": {
        "id": "iU5YwKGxzFpN",
        "colab_type": "code",
        "colab": {
          "base_uri": "https://localhost:8080/",
          "height": 35
        },
        "outputId": "e0c8b6f3-46d4-4603-d53c-f3a1f4158dfc"
      },
      "source": [
        "from sklearn.preprocessing import LabelBinarizer\n",
        "indicies=range(5)\n",
        "encoder=LabelBinarizer()\n",
        "labels=encoder.fit_transform(indicies)\n",
        "print(labels[1])"
      ],
      "execution_count": 30,
      "outputs": [
        {
          "output_type": "stream",
          "text": [
            "[0 1 0 0 0]\n"
          ],
          "name": "stdout"
        }
      ]
    },
    {
      "cell_type": "code",
      "metadata": {
        "id": "hp70eeda_POS",
        "colab_type": "code",
        "colab": {}
      },
      "source": [
        "# This method will return the average L1 loss and R^2 score \n",
        "# of the passed model on the passed DataLoader\n",
        "def model_loss(model, dataset, train = False, optimizer = None):\n",
        "  # Cycle through the batches and get the average L1 loss\n",
        "  performance = L1Loss()\n",
        "  criterion = CrossEntropyLoss()\n",
        "  avg_loss = 0\n",
        "  avg_accu = 0\n",
        "  count = 0\n",
        "  \n",
        "  for input, output in iter(dataset):\n",
        "    # Get the model's predictions for the training dataset\n",
        "    predictions = model.feed(input)\n",
        "    \n",
        "    # Get the model's loss\n",
        "    loss = performance(predictions, output)\n",
        "    \n",
        "    tmp_accu = categorical_accuracy(predictions, output)\n",
        "    \n",
        "    if(train):\n",
        "      # Clear any errors so they don't cummulate\n",
        "      optimizer.zero_grad()\n",
        "\n",
        "      # Compute the gradients for our optimizer\n",
        "      loss.backward()\n",
        "\n",
        "      # Use the optimizer to update the model's parameters based on the\n",
        "      # gradients\n",
        "      optimizer.step()\n",
        "\n",
        "    # Store the loss and update the counter\n",
        "    avg_loss += loss.item()\n",
        "\n",
        "    # Accumulate performance metrices\n",
        "    avg_accu += tmp_accu.item()\n",
        "    count += 1\n",
        "    \n",
        "  return avg_loss / count, avg_accu / count"
      ],
      "execution_count": 0,
      "outputs": []
    },
    {
      "cell_type": "markdown",
      "metadata": {
        "id": "r1tvPm_BP4Gb",
        "colab_type": "text"
      },
      "source": [
        "\n",
        "\n",
        "> Finally, let's train the model (this is using code from the first lab)\n",
        "\n"
      ]
    },
    {
      "cell_type": "code",
      "metadata": {
        "id": "ITvKKOe8P9FZ",
        "colab_type": "code",
        "colab": {
          "base_uri": "https://localhost:8080/",
          "height": 1000
        },
        "outputId": "a466a90f-ad45-440e-d2b9-6c9ffb36e8ea"
      },
      "source": [
        "# Define the number of epochs to train for\n",
        "epochs = 25\n",
        "\n",
        "# Define the performance measure and optimizer\n",
        "optimizer = SGD(model.parameters(), lr=1e-5)\n",
        "#optimizer = Adam(model.parameters())\n",
        "\n",
        "# Convert the training set into torch variables for our model using the GPU\n",
        "# as floats. The reshape is to remove a warning pytorch outputs otherwise.\n",
        "inputs = torch.from_numpy(x_train_np).cuda().float()\n",
        "outputs = torch.from_numpy(y_train_np.reshape(y_train_np.shape[0], 1)).cuda().float()\n",
        "\n",
        "# Create a DataLoader instance to work with our batches\n",
        "tensor = TensorDataset(inputs, outputs)\n",
        "loader = DataLoader(tensor, batch_size, shuffle=True, drop_last=True)\n",
        "\n",
        "# Start the training loop\n",
        "for epoch in range(epochs):\n",
        "  # Cycle through the batches and get the average loss\n",
        "  avg_loss, avg_accu = model_loss(model, loader, train=True, optimizer=optimizer)\n",
        "  print(\"Epoch \" + str(epoch + 1) + \":\\n\\tLoss = \" + str(avg_loss))\n",
        "  print(\"Accuracy = \" + str(avg_accu))"
      ],
      "execution_count": 32,
      "outputs": [
        {
          "output_type": "stream",
          "text": [
            "/usr/local/lib/python3.6/dist-packages/ipykernel_launcher.py:61: UserWarning: Implicit dimension choice for softmax has been deprecated. Change the call to include dim=X as an argument.\n",
            "/usr/local/lib/python3.6/dist-packages/torch/nn/modules/loss.py:88: UserWarning: Using a target size (torch.Size([128, 1])) that is different to the input size (torch.Size([128, 5])). This will likely lead to incorrect results due to broadcasting. Please ensure they have the same size.\n",
            "  return F.l1_loss(input, target, reduction=self.reduction)\n"
          ],
          "name": "stderr"
        },
        {
          "output_type": "stream",
          "text": [
            "Epoch 1:\n",
            "\tLoss = 1.9193274741587432\n",
            "Accuracy = 0.25679347826086957\n",
            "Epoch 2:\n",
            "\tLoss = 1.9196671558463054\n",
            "Accuracy = 0.2561141304347826\n",
            "Epoch 3:\n",
            "\tLoss = 1.9210937774699668\n",
            "Accuracy = 0.2564538043478261\n",
            "Epoch 4:\n",
            "\tLoss = 1.9196331786072773\n",
            "Accuracy = 0.2552649456521739\n",
            "Epoch 5:\n",
            "\tLoss = 1.9181386180545972\n",
            "Accuracy = 0.2562839673913043\n",
            "Epoch 6:\n",
            "\tLoss = 1.917221486568451\n",
            "Accuracy = 0.2561141304347826\n",
            "Epoch 7:\n",
            "\tLoss = 1.9184443354606628\n",
            "Accuracy = 0.2564538043478261\n",
            "Epoch 8:\n",
            "\tLoss = 1.9203464984893799\n",
            "Accuracy = 0.25492527173913043\n",
            "Epoch 9:\n",
            "\tLoss = 1.9188859099927156\n",
            "Accuracy = 0.25577445652173914\n",
            "Epoch 10:\n",
            "\tLoss = 1.9195652552272962\n",
            "Accuracy = 0.2564538043478261\n",
            "Epoch 11:\n",
            "\tLoss = 1.9198709493098052\n",
            "Accuracy = 0.2554347826086957\n",
            "Epoch 12:\n",
            "\tLoss = 1.9168138918669329\n",
            "Accuracy = 0.25577445652173914\n",
            "Epoch 13:\n",
            "\tLoss = 1.9178668804790662\n",
            "Accuracy = 0.25662364130434784\n",
            "Epoch 14:\n",
            "\tLoss = 1.9185122640236565\n",
            "Accuracy = 0.25577445652173914\n",
            "Epoch 15:\n",
            "\tLoss = 1.9187160704446875\n",
            "Accuracy = 0.2554347826086957\n",
            "Epoch 16:\n",
            "\tLoss = 1.9199049265488335\n",
            "Accuracy = 0.25594429347826086\n",
            "Epoch 17:\n",
            "\tLoss = 1.9170176853304324\n",
            "Accuracy = 0.25577445652173914\n",
            "Epoch 18:\n",
            "\tLoss = 1.921365525411523\n",
            "Accuracy = 0.2562839673913043\n",
            "Epoch 19:\n",
            "\tLoss = 1.9182744855466096\n",
            "Accuracy = 0.2561141304347826\n",
            "Epoch 20:\n",
            "\tLoss = 1.9173573566519695\n",
            "Accuracy = 0.2569633152173913\n",
            "Epoch 21:\n",
            "\tLoss = 1.916542156882908\n",
            "Accuracy = 0.25679347826086957\n",
            "Epoch 22:\n",
            "\tLoss = 1.9209579099779543\n",
            "Accuracy = 0.2556046195652174\n",
            "Epoch 23:\n",
            "\tLoss = 1.920142676519311\n",
            "Accuracy = 0.2552649456521739\n",
            "Epoch 24:\n",
            "\tLoss = 1.9140625285065693\n",
            "Accuracy = 0.2578125\n",
            "Epoch 25:\n",
            "\tLoss = 1.9197690538738086\n",
            "Accuracy = 0.25509510869565216\n"
          ],
          "name": "stdout"
        }
      ]
    },
    {
      "cell_type": "code",
      "metadata": {
        "id": "kiF8QFwDEO7B",
        "colab_type": "code",
        "colab": {
          "base_uri": "https://localhost:8080/",
          "height": 72
        },
        "outputId": "3d52892e-9ff2-4548-851e-6dc7bbb4979a"
      },
      "source": [
        "#saving model to disk\n",
        "torch.save(model, 'Assign2.pt')"
      ],
      "execution_count": 33,
      "outputs": [
        {
          "output_type": "stream",
          "text": [
            "/usr/local/lib/python3.6/dist-packages/torch/serialization.py:360: UserWarning: Couldn't retrieve source code for container of type CnnClassifier. It won't be checked for correctness upon loading.\n",
            "  \"type \" + obj.__name__ + \". It won't be checked \"\n"
          ],
          "name": "stderr"
        }
      ]
    },
    {
      "cell_type": "code",
      "metadata": {
        "id": "1WTPkJYQE_lg",
        "colab_type": "code",
        "colab": {
          "base_uri": "https://localhost:8080/",
          "height": 156
        },
        "outputId": "8cc093d8-f505-4d9e-f6b8-ba2d17d9b809"
      },
      "source": [
        "# loading model from disk\n",
        "model = torch.load('Assign2.pt')\n",
        "model.eval()"
      ],
      "execution_count": 34,
      "outputs": [
        {
          "output_type": "execute_result",
          "data": {
            "text/plain": [
              "CnnClassifier(\n",
              "  (input_layer): Conv1d(50320, 128, kernel_size=(1,), stride=(1,))\n",
              "  (max_pooling_layer): MaxPool1d(kernel_size=1, stride=1, padding=0, dilation=1, ceil_mode=False)\n",
              "  (conv_layer): Conv1d(128, 128, kernel_size=(1,), stride=(1,))\n",
              "  (flatten_layer): Flatten()\n",
              "  (linear_layer): Linear(in_features=128, out_features=64, bias=True)\n",
              "  (output_layer): Linear(in_features=64, out_features=5, bias=True)\n",
              ")"
            ]
          },
          "metadata": {
            "tags": []
          },
          "execution_count": 34
        }
      ]
    },
    {
      "cell_type": "markdown",
      "metadata": {
        "id": "e9ugbkGFhMXL",
        "colab_type": "text"
      },
      "source": [
        "> Lastly, we will test the model to see how it performs on the testing dataset"
      ]
    },
    {
      "cell_type": "code",
      "metadata": {
        "id": "NolMttQ-HA5s",
        "colab_type": "code",
        "colab": {
          "base_uri": "https://localhost:8080/",
          "height": 124
        },
        "outputId": "9d809c71-a18c-4815-aec2-349052766de8"
      },
      "source": [
        "# Convert the testing set into torch variables for our model using the GPU\n",
        "# as floats\n",
        "inputs = torch.from_numpy(x_test_np).cuda().float()\n",
        "outputs = torch.from_numpy(y_test_np.reshape(y_test_np.shape[0], 1)).cuda().float()\n",
        "\n",
        "# Create a DataLoader instance to work with our batches\n",
        "tensor = TensorDataset(inputs, outputs)\n",
        "loader = DataLoader(tensor, batch_size, shuffle=True, drop_last=True)\n",
        "avg_loss, avg_accu = model_loss(model, loader)\n",
        "print(\"The model's L1 loss is: \" + str(avg_loss))\n",
        "print(\"The model's Accuracy is: \" + str(avg_accu))"
      ],
      "execution_count": 35,
      "outputs": [
        {
          "output_type": "stream",
          "text": [
            "/usr/local/lib/python3.6/dist-packages/ipykernel_launcher.py:61: UserWarning: Implicit dimension choice for softmax has been deprecated. Change the call to include dim=X as an argument.\n",
            "/usr/local/lib/python3.6/dist-packages/torch/nn/modules/loss.py:88: UserWarning: Using a target size (torch.Size([128, 1])) that is different to the input size (torch.Size([128, 5])). This will likely lead to incorrect results due to broadcasting. Please ensure they have the same size.\n",
            "  return F.l1_loss(input, target, reduction=self.reduction)\n"
          ],
          "name": "stderr"
        },
        {
          "output_type": "stream",
          "text": [
            "The model's L1 loss is: 1.9006250202655792\n",
            "The model's Accuracy is: 0.262109375\n"
          ],
          "name": "stdout"
        }
      ]
    },
    {
      "cell_type": "code",
      "metadata": {
        "id": "8Z-O8bCRB95C",
        "colab_type": "code",
        "colab": {}
      },
      "source": [
        ""
      ],
      "execution_count": 0,
      "outputs": []
    },
    {
      "cell_type": "code",
      "metadata": {
        "id": "7iLvqPOqCItz",
        "colab_type": "code",
        "colab": {}
      },
      "source": [
        ""
      ],
      "execution_count": 0,
      "outputs": []
    }
  ]
}